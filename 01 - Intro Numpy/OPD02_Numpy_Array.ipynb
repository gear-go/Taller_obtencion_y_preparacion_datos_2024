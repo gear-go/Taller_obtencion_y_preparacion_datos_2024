{
  "nbformat": 4,
  "nbformat_minor": 0,
  "metadata": {
    "colab": {
      "provenance": []
    },
    "kernelspec": {
      "display_name": "Python 3 (ipykernel)",
      "language": "python",
      "name": "python3"
    },
    "language_info": {
      "codemirror_mode": {
        "name": "ipython",
        "version": 3
      },
      "file_extension": ".py",
      "mimetype": "text/x-python",
      "name": "python",
      "nbconvert_exporter": "python",
      "pygments_lexer": "ipython3",
      "version": "3.8.11"
    }
  },
  "cells": [
    {
      "cell_type": "markdown",
      "metadata": {
        "id": "VMvDkUomGtXP"
      },
      "source": [
        "# **Obtención y preparación de datos**\n",
        "# OPD02. Numpy Array"
      ]
    },
    {
      "cell_type": "code",
      "metadata": {
        "id": "7YJnpZ5zHtqL"
      },
      "source": [
        "import numpy as np"
      ],
      "execution_count": null,
      "outputs": []
    },
    {
      "cell_type": "markdown",
      "metadata": {
        "id": "3t_jEFXa9i9N"
      },
      "source": [
        "### <font color='blue'>**¿Qué es un matriz?**</font>\n",
        "\n",
        "Un arreglo (array) es la estructura de datos central de la biblioteca NumPy. Un array es una cuadrícula de valores y contiene información sobre los datos sin procesar, cómo ubicar un elemento y cómo interpretar un elemento. Tiene una cuadrícula de elementos que se pueden indexar de varias formas. Los elementos son todos del mismo tipo, denominados `array dtype`.\n",
        "\n",
        "<img src='https://drive.google.com/uc?export=view&id=1gzNzhv_B2Dcu5NzozSAXqmNp3zio6Mc1' width=\"500\" align=\"center\" style=\"margin-right: 20px\">\n",
        "\n",
        "**Nota: es posible referirse la estructura `ndarray de NumPy de las siguientes formas: array, arreglo, y/o matriz.**\n",
        "\n",
        "Un array puede ser indexado por una tupla de enteros no negativos, por booleanos, por otra matriz o por enteros. El rango del arreglo es el número de dimensiones. La forma del arreglo es una tupla de números enteros que dan el tamaño del arreglo a lo largo de cada dimensión.\n",
        "\n",
        "Una forma en que podemos inicializar arrays NumPy es a partir de listas de Python, utilizando listas anidadas para datos bidimensionales o de mayor dimensión. Por ejemplo:\n"
      ]
    },
    {
      "cell_type": "code",
      "metadata": {
        "id": "X0foAkMz9i9O"
      },
      "source": [
        "A = np.array([1, 2, 3, 4, 5])\n",
        "print(A)"
      ],
      "execution_count": null,
      "outputs": []
    },
    {
      "cell_type": "markdown",
      "metadata": {
        "id": "rMAX7IFM9i9Q"
      },
      "source": [
        "o"
      ]
    },
    {
      "cell_type": "code",
      "metadata": {
        "id": "NJm3BodP9i9R"
      },
      "source": [
        "A = np.array([[1, 2, 3], [7, 8, 9], [13, 14, 15], [19, 20, 21]])\n",
        "print(A)"
      ],
      "execution_count": null,
      "outputs": []
    },
    {
      "cell_type": "code",
      "source": [
        "A = np.array([[[1,2],[1,2], [1,2]], [[1,2], [1,2], [1,2]], [[1,2], [1,2], [1,2]], [[1,2], [1,2], [1,2]]])\n",
        "print(A)"
      ],
      "metadata": {
        "id": "tyNwbn6OJMvz"
      },
      "execution_count": null,
      "outputs": []
    },
    {
      "cell_type": "markdown",
      "metadata": {
        "id": "hj82Bba09i9U"
      },
      "source": [
        "Podemos acceder a los elementos del array utilizando **corchetes**. Cuando acceda a los elementos del array, recuerde que la **indexación en NumPy comienza en 0**. Eso significa que si desea acceder al primer elemento de su arreglo, estará accediendo al elemento \"0\".\n",
        "\n",
        "<img src='https://drive.google.com/uc?export=view&id=18qtkEag596pYiUWuULj1f88v4L-1DEnq' width=\"500\" align=\"center\" style=\"margin-right: 20px\">"
      ]
    },
    {
      "cell_type": "code",
      "metadata": {
        "id": "uwxJsaQZ9i9V"
      },
      "source": [
        "print(A[:,2])"
      ],
      "execution_count": null,
      "outputs": []
    },
    {
      "cell_type": "code",
      "metadata": {
        "id": "xFU1P_OV9i9X"
      },
      "source": [
        "print(A[2,1])"
      ],
      "execution_count": null,
      "outputs": []
    },
    {
      "cell_type": "markdown",
      "metadata": {
        "id": "ugHhWBvq9i9a"
      },
      "source": [
        "Un arreglo N-dimensional es un array con cualquier número de dimensiones. También puede encontrar arreglos 1D o arreglo unidimensional, 2D o matriz bidimensional, etc.\n",
        "\n",
        "La clase `ndarray` de NumPy se utiliza para representar tanto matrices como vectores. Un vector es un array (matriz) con una sola dimensión (no hay diferencia entre los vectores de fila y columna), mientras que una matriz se refiere a un arreglo con dos dimensiones. Para arreglos tridimensionales o superiores, el término tensor también se usa comúnmente.\n",
        "\n",
        "#### <font color='blue'>**¿Cuáles son los atributos de una matriz?**</font>\n",
        "\n",
        "Un arreglo suele ser un contenedor de tamaño fijo de elementos del mismo tipo y tamaño. El número de dimensiones y elementos de un arreglo se define por su forma. La forma de un array es una tupla de números enteros no negativos que especifican los tamaños de cada dimensión.\n",
        "\n",
        "En NumPy, las dimensiones se llaman ejes. Esto significa que si tiene un array 2D que se ve así:"
      ]
    },
    {
      "cell_type": "code",
      "metadata": {
        "id": "tkLAEqhY9i9a"
      },
      "source": [
        "[[0., 0., 0.],\n",
        " [1., 1., 1.]]"
      ],
      "execution_count": null,
      "outputs": []
    },
    {
      "cell_type": "markdown",
      "metadata": {
        "id": "rkM2yewO9i9c"
      },
      "source": [
        "Su arreglo tiene 2 ejes. El primer eje tiene una longitud de 2 y el segundo eje tiene una longitud de 3.\n",
        "\n",
        "Al igual que en otros objetos contenedores de Python, se puede acceder y modificar el contenido de un array indexando o dividiendo (_slicing_) la estructura. A diferencia de los objetos contenedores típicos, diferentes arreglos pueden compartir los mismos datos, por lo que los cambios realizados en un array pueden ser visibles en otro.\n",
        "\n",
        "Los atributos de los arreglos reflejan información intrínseca a la propia matriz. Si necesita obtener, o incluso establecer, propiedades de un arreglo sin crear un nuevo array, a menudo puede acceder a una matriz a través de sus atributos. Para detalles y más información vea la documentación oficial de [ndarray](https://numpy.org/devdocs/reference/arrays.ndarray.html#arrays-ndarray)."
      ]
    },
    {
      "cell_type": "markdown",
      "metadata": {
        "id": "HrybO6-B9i9d"
      },
      "source": [
        "## <font color='green'>**Actividad 1**</font>"
      ]
    },
    {
      "cell_type": "markdown",
      "metadata": {
        "id": "rhMrjXbM9i9d"
      },
      "source": [
        "A partir de la arreglo A definido anteriomente:\n",
        "\n",
        "```python\n",
        "A = np.array([[1, 2, 3], [7, 8, 9], [13, 14, 15], [19, 20, 21]])\n",
        "```\n",
        "\n",
        "1. Indicar el rango y la forma del array _A_.\n",
        "1. Crear un vector *a1* que corresponda a la segunda columna del arreglo _A_.\n",
        "1. Crear un arreglo *a2* que incluya los elementos de las filas 2 a 4 y de las columnas 2 a 3 del arreglo A.\n",
        "1. Crear un vector *a3* que contenga los elementos $A[0,0], A[1,2], A[0,1], A[3,2], A[2,2] y A[1,1]$\n",
        "1. Crear un array *a4* de 2x3 con las primeras dos filas.\n",
        "1. Crear un array *a5* que contenga la última y la primera fila del array A."
      ]
    },
    {
      "cell_type": "code",
      "metadata": {
        "id": "4irU2lyT9i9e"
      },
      "source": [
        "# Tu código aquí ...\n",
        "\n",
        ""
      ],
      "execution_count": null,
      "outputs": []
    },
    {
      "cell_type": "markdown",
      "metadata": {
        "id": "sFMmV6Bdjj34"
      },
      "source": [
        "<font color='green'>**Fin actividad 1**</font>"
      ]
    }
  ]
}